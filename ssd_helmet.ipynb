{
 "cells": [
  {
   "cell_type": "markdown",
   "metadata": {
    "heading_collapsed": true
   },
   "source": [
    "# 前準備"
   ]
  },
  {
   "cell_type": "code",
   "execution_count": null,
   "metadata": {
    "colab": {},
    "colab_type": "code",
    "hidden": true,
    "id": "tg97Lwr3Is3W"
   },
   "outputs": [],
   "source": [
    "# Copyright (c) 2017 Max deGroot, Ellis Brown\n",
    "# Released under the MIT license\n",
    "# https://github.com/amdegroot/ssd.pytorch\n",
    "# Updated by: Takuya Mouri"
   ]
  },
  {
   "cell_type": "code",
   "execution_count": null,
   "metadata": {
    "hidden": true
   },
   "outputs": [],
   "source": [
    "# ベースは以下のchapter7です\n",
    "# https://github.com/miyamotok0105/pytorch_handbook"
   ]
  },
  {
   "cell_type": "code",
   "execution_count": null,
   "metadata": {
    "colab": {},
    "colab_type": "code",
    "hidden": true,
    "id": "ukRAb4TDYQBQ"
   },
   "outputs": [],
   "source": [
    "## バージョンを指定する場合、セルをコメントアウトしてください。\n",
    "#!pip install torch #==0.4.1\n",
    "#!pip install torchvision #==0.2.1\n",
    "#!pip install opencv-python\n",
    "#!pip install numpy==1.14.6\n",
    "#!pip install matplotlib==2.1.2\n",
    "#!pip install Pillow==5.0.0\n",
    "#!pip install kaggle"
   ]
  },
  {
   "cell_type": "code",
   "execution_count": null,
   "metadata": {
    "ExecuteTime": {
     "end_time": "2020-12-08T01:37:26.608543Z",
     "start_time": "2020-12-08T01:36:40.925898Z"
    },
    "hidden": true
   },
   "outputs": [],
   "source": [
    "# kaggleからhelmetのデータを持ってくる\n",
    "# kaggle apiについてはこの辺を参考に https://web-u-project.com/tech/2018/04/17/kaggle_api.html\n",
    "# kaggle apiが使えなければ https://www.kaggle.com/andrewmvd/hard-hat-detection から直接DLしても可\n",
    "!kaggle datasets download -d andrewmvd/hard-hat-detection"
   ]
  },
  {
   "cell_type": "code",
   "execution_count": null,
   "metadata": {
    "ExecuteTime": {
     "end_time": "2020-12-08T01:53:07.167244Z",
     "start_time": "2020-12-08T01:53:07.029089Z"
    },
    "hidden": true
   },
   "outputs": [],
   "source": [
    "# datasets/helmetを作成\n",
    "!mkdir -p datasets/helmet"
   ]
  },
  {
   "cell_type": "code",
   "execution_count": null,
   "metadata": {
    "ExecuteTime": {
     "end_time": "2020-12-08T01:51:24.040688Z",
     "start_time": "2020-12-08T01:51:14.219740Z"
    },
    "hidden": true
   },
   "outputs": [],
   "source": [
    "# データセットを解凍\n",
    "!unzip hard-hat-detection.zip -d datasets/helmet"
   ]
  },
  {
   "cell_type": "code",
   "execution_count": null,
   "metadata": {
    "ExecuteTime": {
     "end_time": "2020-11-27T06:03:07.521694Z",
     "start_time": "2020-11-27T06:03:07.509930Z"
    },
    "hidden": true
   },
   "outputs": [],
   "source": [
    "# 準備のためファイル一覧作成\n",
    "l=['hard_hat_workers{0}'.format(i) for i in range(5000)]\n",
    "with open('trainval.txt', mode='w') as f:\n",
    "    f.write('\\n'.join(l))\n",
    "\n",
    "with open('trainval.txt') as f:\n",
    "    print(f.read())"
   ]
  },
  {
   "cell_type": "code",
   "execution_count": null,
   "metadata": {
    "hidden": true
   },
   "outputs": [],
   "source": [
    "# 作成したtxtファイルを動かす\n",
    "#!mv trainval.txt datasets/helmet"
   ]
  },
  {
   "cell_type": "code",
   "execution_count": null,
   "metadata": {
    "ExecuteTime": {
     "end_time": "2020-12-08T01:18:26.794202Z",
     "start_time": "2020-12-08T01:18:24.098205Z"
    },
    "colab": {
     "base_uri": "https://localhost:8080/",
     "height": 51
    },
    "colab_type": "code",
    "executionInfo": {
     "elapsed": 4040,
     "status": "ok",
     "timestamp": 1590326794091,
     "user": {
      "displayName": "毛利拓也",
      "photoUrl": "",
      "userId": "17854120745961292401"
     },
     "user_tz": -540
    },
    "hidden": true,
    "id": "36x7-x89zFWm",
    "outputId": "2afa5885-d194-4f58-f770-5da53f65c226"
   },
   "outputs": [],
   "source": [
    "# version確認\n",
    "import torch\n",
    "import torchvision\n",
    "print(torch.__version__)\n",
    "print(torchvision.__version__)"
   ]
  },
  {
   "cell_type": "code",
   "execution_count": null,
   "metadata": {
    "ExecuteTime": {
     "end_time": "2020-12-08T01:19:06.946438Z",
     "start_time": "2020-12-08T01:19:06.941870Z"
    },
    "colab": {
     "base_uri": "https://localhost:8080/",
     "height": 34
    },
    "colab_type": "code",
    "executionInfo": {
     "elapsed": 655,
     "status": "ok",
     "timestamp": 1590326797121,
     "user": {
      "displayName": "毛利拓也",
      "photoUrl": "",
      "userId": "17854120745961292401"
     },
     "user_tz": -540
    },
    "hidden": true,
    "id": "jjjwuq-qMBJP",
    "outputId": "4bb54132-720f-44b7-b131-434a1b02726f"
   },
   "outputs": [],
   "source": [
    "# GPUの接続\n",
    "import torch\n",
    "torch.cuda.is_available()"
   ]
  },
  {
   "cell_type": "markdown",
   "metadata": {
    "colab_type": "text",
    "heading_collapsed": true,
    "id": "OIEKTtxSN3xL"
   },
   "source": [
    "# ベースネットVGG-16のパラメータをダウンロード（フォルダweights未格納時）"
   ]
  },
  {
   "cell_type": "code",
   "execution_count": null,
   "metadata": {
    "colab": {
     "base_uri": "https://localhost:8080/",
     "height": 204
    },
    "colab_type": "code",
    "executionInfo": {
     "elapsed": 5842,
     "status": "ok",
     "timestamp": 1588751421404,
     "user": {
      "displayName": "毛利拓也",
      "photoUrl": "",
      "userId": "17854120745961292401"
     },
     "user_tz": -540
    },
    "hidden": true,
    "id": "QjoaVYNIVmSq",
    "outputId": "00658c43-b8a5-4d90-f8d9-60a430b2cf2d"
   },
   "outputs": [],
   "source": [
    "# ベースネットワークのパラメータファイルをダウンロード\n",
    "!wget https://s3.amazonaws.com/amdegroot-models/vgg16_reducedfc.pth"
   ]
  },
  {
   "cell_type": "code",
   "execution_count": null,
   "metadata": {
    "colab": {},
    "colab_type": "code",
    "hidden": true,
    "id": "iRyJbVdzoEm6"
   },
   "outputs": [],
   "source": [
    "import os\n",
    "# フォルダweights未作成の場合に作成\n",
    "if not os.path.exists('weights/'):\n",
    "    os.mkdir('weights/')"
   ]
  },
  {
   "cell_type": "code",
   "execution_count": null,
   "metadata": {
    "colab": {},
    "colab_type": "code",
    "hidden": true,
    "id": "da-ySmBbpIBa"
   },
   "outputs": [],
   "source": [
    "# パラメータファイルをフォルダweightsに移動\n",
    "!mv vgg16_reducedfc.pth weights"
   ]
  },
  {
   "cell_type": "markdown",
   "metadata": {
    "colab_type": "text",
    "heading_collapsed": true,
    "id": "Byf3Z27lO1M6"
   },
   "source": [
    "# SSDネットワークの学習"
   ]
  },
  {
   "cell_type": "code",
   "execution_count": null,
   "metadata": {
    "ExecuteTime": {
     "end_time": "2020-12-08T01:19:38.325528Z",
     "start_time": "2020-12-08T01:19:37.992468Z"
    },
    "colab": {},
    "colab_type": "code",
    "hidden": true,
    "id": "icr3Bcpet_cG"
   },
   "outputs": [],
   "source": [
    "from data import *\n",
    "from utils.augmentations import SSDAugmentation\n",
    "from layers.modules import MultiBoxLoss\n",
    "from ssd import build_ssd\n",
    "import os\n",
    "import sys\n",
    "import time\n",
    "import torch\n",
    "import torch.nn as nn\n",
    "import torch.optim as optim\n",
    "import torch.backends.cudnn as cudnn\n",
    "import torch.nn.init as init\n",
    "import torch.utils.data as data\n",
    "import numpy as np\n",
    "import argparse"
   ]
  },
  {
   "cell_type": "code",
   "execution_count": null,
   "metadata": {
    "ExecuteTime": {
     "end_time": "2020-12-08T01:20:03.090714Z",
     "start_time": "2020-12-08T01:20:03.086404Z"
    },
    "colab": {},
    "colab_type": "code",
    "hidden": true,
    "id": "WiQV5Z6KQj-V"
   },
   "outputs": [],
   "source": [
    "# 学習の再開時はargs['resume']にパラメータファイルを指定\n",
    "args = {'dataset':'helmet_test',\n",
    "        'basenet':'vgg16_reducedfc.pth',\n",
    "        'batch_size':4,\n",
    "        'resume':'',\n",
    "        'start_iter':0,\n",
    "        'num_workers':4,\n",
    "        'cuda':True,\n",
    "        'lr':2e-4,\n",
    "        'momentum':0.9,\n",
    "        'weight_decay':5e-4,\n",
    "        'gamma':0.1,\n",
    "        'save_folder':'weights/'\n",
    "       }"
   ]
  },
  {
   "cell_type": "code",
   "execution_count": null,
   "metadata": {
    "ExecuteTime": {
     "end_time": "2020-12-08T01:20:11.664012Z",
     "start_time": "2020-12-08T01:20:11.659942Z"
    },
    "colab": {},
    "colab_type": "code",
    "hidden": true,
    "id": "oWYEDUASQuhU"
   },
   "outputs": [],
   "source": [
    "# Tensor作成時のデフォルトにGPU Tensorを設定\n",
    "if torch.cuda.is_available():\n",
    "    if args['cuda']:\n",
    "        torch.set_default_tensor_type('torch.cuda.FloatTensor')\n",
    "    if not args['cuda']:\n",
    "        print(\"WARNING: It looks like you have a CUDA device, but aren't \" +\n",
    "              \"using CUDA.\\nRun with --cuda for optimal training speed.\")\n",
    "        torch.set_default_tensor_type('torch.FloatTensor')\n",
    "else:\n",
    "    torch.set_default_tensor_type('torch.FloatTensor')"
   ]
  },
  {
   "cell_type": "code",
   "execution_count": null,
   "metadata": {
    "ExecuteTime": {
     "end_time": "2020-12-08T01:20:18.160112Z",
     "start_time": "2020-12-08T01:20:18.152832Z"
    },
    "colab": {},
    "colab_type": "code",
    "hidden": true,
    "id": "-l99I9gTQ3bq"
   },
   "outputs": [],
   "source": [
    "# 訓練データの設定\n",
    "cfg = voc\n",
    "dataset = VOCDetection(root=VOC_ROOT,\n",
    "                       transform=SSDAugmentation(cfg['min_dim'],\n",
    "                                                 MEANS))"
   ]
  },
  {
   "cell_type": "code",
   "execution_count": null,
   "metadata": {
    "ExecuteTime": {
     "end_time": "2020-12-08T01:20:26.661319Z",
     "start_time": "2020-12-08T01:20:20.974412Z"
    },
    "colab": {},
    "colab_type": "code",
    "hidden": true,
    "id": "y-yIlvtmQ5cC"
   },
   "outputs": [],
   "source": [
    "# ネットワークの定義\n",
    "ssd_net = build_ssd('train', cfg['min_dim'], cfg['num_classes'])\n",
    "device = 'cuda' if torch.cuda.is_available() else 'cpu'\n",
    "# ネットワークをGPUに転送\n",
    "net = ssd_net.to(device)"
   ]
  },
  {
   "cell_type": "code",
   "execution_count": null,
   "metadata": {
    "ExecuteTime": {
     "end_time": "2020-12-08T01:20:38.556528Z",
     "start_time": "2020-12-08T01:20:37.961653Z"
    },
    "colab": {
     "base_uri": "https://localhost:8080/",
     "height": 34
    },
    "colab_type": "code",
    "executionInfo": {
     "elapsed": 10631,
     "status": "ok",
     "timestamp": 1588752410314,
     "user": {
      "displayName": "毛利拓也",
      "photoUrl": "",
      "userId": "17854120745961292401"
     },
     "user_tz": -540
    },
    "hidden": true,
    "id": "YwroXb1CT9TX",
    "outputId": "93f267ec-75f6-4c53-d6a3-72465e8e8f2f"
   },
   "outputs": [],
   "source": [
    "# 学習の再開時はargs['resume']のパラメータをロード\n",
    "if args['resume']:\n",
    "    print('Resuming training, loading {}...'.format(args['resume']))\n",
    "    ssd_net.load_weights(args['save_folder'] + args['resume'])\n",
    "# 学習の開始時はargs['basenet']のパラメータをロード    \n",
    "else:\n",
    "    vgg_weights = torch.load(args['save_folder'] + args['basenet'])\n",
    "    print('Loading base network...')\n",
    "    ssd_net.vgg.load_state_dict(vgg_weights)"
   ]
  },
  {
   "cell_type": "code",
   "execution_count": null,
   "metadata": {
    "ExecuteTime": {
     "end_time": "2020-12-08T01:20:45.035419Z",
     "start_time": "2020-12-08T01:20:45.031915Z"
    },
    "colab": {
     "base_uri": "https://localhost:8080/",
     "height": 1000
    },
    "colab_type": "code",
    "executionInfo": {
     "elapsed": 4918,
     "status": "ok",
     "timestamp": 1588752410315,
     "user": {
      "displayName": "毛利拓也",
      "photoUrl": "",
      "userId": "17854120745961292401"
     },
     "user_tz": -540
    },
    "hidden": true,
    "id": "hiqc2gTuaSnF",
    "outputId": "cee3a01c-06bb-4d17-bc6a-ac9da537d599"
   },
   "outputs": [],
   "source": [
    "# ネットワークのモジュールリストを出力\n",
    "print(net)"
   ]
  },
  {
   "cell_type": "code",
   "execution_count": null,
   "metadata": {
    "ExecuteTime": {
     "end_time": "2020-12-08T01:20:48.950474Z",
     "start_time": "2020-12-08T01:20:48.944375Z"
    },
    "colab": {},
    "colab_type": "code",
    "hidden": true,
    "id": "RHAfsL58dD-e"
   },
   "outputs": [],
   "source": [
    "if args['cuda']:\n",
    "    net = torch.nn.DataParallel(ssd_net)\n",
    "    cudnn.benchmark = True"
   ]
  },
  {
   "cell_type": "code",
   "execution_count": null,
   "metadata": {
    "ExecuteTime": {
     "end_time": "2020-12-08T01:20:52.954218Z",
     "start_time": "2020-12-08T01:20:52.949111Z"
    },
    "colab": {},
    "colab_type": "code",
    "hidden": true,
    "id": "FJLfVkaFv1Ef"
   },
   "outputs": [],
   "source": [
    "def adjust_learning_rate(optimizer, gamma, step):\n",
    "    \"\"\"Sets the learning rate to the initial LR decayed by 10 at every\n",
    "        specified step\n",
    "    # Adapted from PyTorch Imagenet example:\n",
    "    # https://github.com/pytorch/examples/blob/master/imagenet/main.py\n",
    "    \"\"\"\n",
    "    lr = args['lr'] * (gamma ** (step))\n",
    "    for param_group in optimizer.param_groups:\n",
    "        param_group['lr'] = lr\n",
    "\n",
    "\n",
    "def xavier(param):\n",
    "    init.xavier_uniform_(param)\n",
    "\n",
    "\n",
    "def weights_init(m):\n",
    "    if isinstance(m, nn.Conv2d):\n",
    "        xavier(m.weight.data)\n",
    "        m.bias.data.zero_()"
   ]
  },
  {
   "cell_type": "code",
   "execution_count": null,
   "metadata": {
    "ExecuteTime": {
     "end_time": "2020-12-08T01:20:58.179735Z",
     "start_time": "2020-12-08T01:20:58.173072Z"
    },
    "colab": {
     "base_uri": "https://localhost:8080/",
     "height": 34
    },
    "colab_type": "code",
    "executionInfo": {
     "elapsed": 475,
     "status": "ok",
     "timestamp": 1588752414448,
     "user": {
      "displayName": "毛利拓也",
      "photoUrl": "",
      "userId": "17854120745961292401"
     },
     "user_tz": -540
    },
    "hidden": true,
    "id": "RoXXclmoUMxB",
    "outputId": "7e4bb7ee-c4ba-44ee-b565-363d17897dc2"
   },
   "outputs": [],
   "source": [
    "# 新規モデル学習時は追加ネットワークの畳み込み、位置推定、クラス分類の畳み込みパラメータを初期化する\n",
    "if not args['resume']:\n",
    "    print('Initializing weights...')\n",
    "    # initialize newly added layers' weights with xavier method\n",
    "    ssd_net.extras.apply(weights_init)\n",
    "    ssd_net.loc.apply(weights_init)\n",
    "    ssd_net.conf.apply(weights_init)"
   ]
  },
  {
   "cell_type": "code",
   "execution_count": null,
   "metadata": {
    "ExecuteTime": {
     "end_time": "2020-12-08T01:21:02.755778Z",
     "start_time": "2020-12-08T01:21:02.752375Z"
    },
    "colab": {},
    "colab_type": "code",
    "hidden": true,
    "id": "Jxv64mg77una"
   },
   "outputs": [],
   "source": [
    "# 損失関数の設定\n",
    "criterion = MultiBoxLoss(cfg['num_classes'], 0.5, True, 0, True, 3, 0.5,\n",
    "                         False, args['cuda'])"
   ]
  },
  {
   "cell_type": "code",
   "execution_count": null,
   "metadata": {
    "ExecuteTime": {
     "end_time": "2020-12-08T01:21:05.354691Z",
     "start_time": "2020-12-08T01:21:05.350927Z"
    },
    "colab": {},
    "colab_type": "code",
    "hidden": true,
    "id": "6CYNS2LSUWCy"
   },
   "outputs": [],
   "source": [
    "# 最適化パラメータの設定\n",
    "optimizer = optim.SGD(net.parameters(), lr=args['lr'], momentum=args['momentum'],\n",
    "                      weight_decay=args['weight_decay'])"
   ]
  },
  {
   "cell_type": "code",
   "execution_count": null,
   "metadata": {
    "ExecuteTime": {
     "end_time": "2020-12-08T01:21:11.678061Z",
     "start_time": "2020-12-08T01:21:11.671857Z"
    },
    "colab": {
     "base_uri": "https://localhost:8080/",
     "height": 139
    },
    "colab_type": "code",
    "executionInfo": {
     "elapsed": 857,
     "status": "ok",
     "timestamp": 1588752418527,
     "user": {
      "displayName": "毛利拓也",
      "photoUrl": "",
      "userId": "17854120745961292401"
     },
     "user_tz": -540
    },
    "hidden": true,
    "id": "04iQnv9rUa3y",
    "outputId": "0ed98bc4-30b0-45d7-af9e-dda0041b5e1c"
   },
   "outputs": [],
   "source": [
    "# 訓練モード\n",
    "net.train()\n",
    "# loss counters\n",
    "loc_loss = 0\n",
    "conf_loss = 0\n",
    "epoch = 0\n",
    "print('Loading the dataset...')\n",
    "\n",
    "epoch_size = len(dataset) // args['batch_size']\n",
    "print('dataset_size', len(dataset))\n",
    "print('epoch_size', epoch_size)\n",
    "print('Training SSD on:', dataset.name)\n",
    "print('Using the specified args:')\n",
    "print(args)\n",
    "\n",
    "step_index = 0"
   ]
  },
  {
   "cell_type": "code",
   "execution_count": null,
   "metadata": {
    "ExecuteTime": {
     "end_time": "2020-12-08T01:21:22.795399Z",
     "start_time": "2020-12-08T01:21:22.791838Z"
    },
    "colab": {},
    "colab_type": "code",
    "hidden": true,
    "id": "5-RZGtOwUdtT"
   },
   "outputs": [],
   "source": [
    "# 訓練データのデータローダへの設定\n",
    "data_loader = data.DataLoader(dataset, args['batch_size'],\n",
    "                              num_workers=args['num_workers'],\n",
    "                              shuffle=True, collate_fn=detection_collate,\n",
    "                              pin_memory=True)"
   ]
  },
  {
   "cell_type": "code",
   "execution_count": null,
   "metadata": {
    "ExecuteTime": {
     "end_time": "2020-12-08T01:22:11.821204Z",
     "start_time": "2020-12-08T01:21:46.612165Z"
    },
    "colab": {
     "base_uri": "https://localhost:8080/",
     "height": 1000
    },
    "colab_type": "code",
    "executionInfo": {
     "elapsed": 345403,
     "status": "ok",
     "timestamp": 1588752770320,
     "user": {
      "displayName": "毛利拓也",
      "photoUrl": "",
      "userId": "17854120745961292401"
     },
     "user_tz": -540
    },
    "hidden": true,
    "id": "U1fd8Y2dUnGY",
    "outputId": "0bef2772-0e23-44ca-b41c-904116eebd1c"
   },
   "outputs": [],
   "source": [
    "# 学習の開始\n",
    "batch_iterator = None\n",
    "# iterationでループして、cfg['max_iter']まで学習する\n",
    "# max_iterはdata/config.py記載アリ（デフォルト 25,000）\n",
    "for iteration in range(args['start_iter'], cfg['max_iter']):\n",
    "    # 学習開始時または1epoch終了後にdata_loaderから訓練データをロードする\n",
    "    if (not batch_iterator) or (iteration % epoch_size ==0):\n",
    "        batch_iterator = iter(data_loader)\n",
    "        loc_loss = 0\n",
    "        conf_loss = 0\n",
    "        epoch += 1\n",
    "\n",
    "    if iteration in cfg['lr_steps']:\n",
    "        step_index += 1\n",
    "        adjust_learning_rate(optimizer, args['gamma'], step_index)\n",
    "        \n",
    "    # load train data\n",
    "    # バッチサイズ分の訓練データをload\n",
    "    images, targets = next(batch_iterator)\n",
    "    \n",
    "    # 画像をGPUに転送\n",
    "    images = images.to(device)\n",
    "    # アノテーションをGPUに転送    \n",
    "    targets = [ann.to(device) for ann in targets]\n",
    "\n",
    "    # forward\n",
    "    t0 = time.time()\n",
    "    # 順伝播の計算\n",
    "    out = net(images)\n",
    "    # 勾配の初期化\n",
    "    optimizer.zero_grad()\n",
    "    # 損失関数の計算\n",
    "    loss_l, loss_c = criterion(out, targets)\n",
    "    loss = loss_l + loss_c\n",
    "    # 勾配の計算\n",
    "    loss.backward()\n",
    "    # パラメータの更新\n",
    "    optimizer.step()\n",
    "    t1 = time.time()\n",
    "    # 損失関数の更新\n",
    "    loc_loss += loss_l.item()\n",
    "    conf_loss += loss_c.item()\n",
    "    \n",
    "    #ログの出力\n",
    "    if iteration % 10 == 0:\n",
    "        print('timer: %.4f sec.' % (t1 - t0))\n",
    "        print('iter ' + repr(iteration) + ' || Loss: %.4f ||' % (loss.item()), end=' ')\n",
    "\n",
    "# 学習済みモデルの保存\n",
    "torch.save(ssd_net.state_dict(),\n",
    "           args['save_folder'] + '' + args['dataset'] + '.pth')"
   ]
  },
  {
   "cell_type": "markdown",
   "metadata": {},
   "source": [
    "# 推論"
   ]
  },
  {
   "cell_type": "code",
   "execution_count": null,
   "metadata": {
    "ExecuteTime": {
     "end_time": "2020-12-08T01:24:29.788050Z",
     "start_time": "2020-12-08T01:24:25.563847Z"
    },
    "colab": {},
    "colab_type": "code",
    "id": "O4ILdWUja2B4"
   },
   "outputs": [],
   "source": [
    "import os\n",
    "import sys\n",
    "import torch\n",
    "import torch.nn as nn\n",
    "import torch.backends.cudnn as cudnn\n",
    "from torch.autograd import Variable\n",
    "import numpy as np\n",
    "import cv2\n",
    "if torch.cuda.is_available():\n",
    "    torch.set_default_tensor_type('torch.cuda.FloatTensor')\n",
    "\n",
    "from ssd import build_ssd\n",
    " \n",
    "# SSDネットワークの定義と重みファイルのロード\n",
    "net = build_ssd('test', 300, 5)    \n",
    "net.load_weights('./weights/helmet.pth')\n",
    " \n",
    "from matplotlib import pyplot as plt\n",
    "from data import VOCDetection, VOC_ROOT, VOCAnnotationTransform\n",
    " \n",
    "# 推論したい画像のパスを指定 (デフォルトで指定しているファイルは存在しないので必ず変更すること)\n",
    "image = cv2.imread('datasets/helmet/test/IMG_7958.jpg', cv2.IMREAD_COLOR)\n",
    "\n",
    "# テスト画像の表示\n",
    "rgb_image = cv2.cvtColor(image, cv2.COLOR_BGR2RGB)\n",
    "plt.figure(figsize=(10,10))\n",
    "plt.imshow(rgb_image)\n",
    "plt.show()\n",
    " \n",
    "x = cv2.resize(image, (300, 300)).astype(np.float32)  # 300*300にリサイズ\n",
    "x -= (104.0, 117.0, 123.0)\n",
    "x = x.astype(np.float32)\n",
    "x = x[:, :, ::-1].copy()\n",
    "x = torch.from_numpy(x).permute(2, 0, 1)  # [300,300,3] → [３,300,300]\n",
    "xx = Variable(x.unsqueeze(0))     # [3,300,300] → [1,3,300,300]\n",
    "if torch.cuda.is_available():\n",
    "    xx = xx.cuda()\n",
    "# 順伝播を実行し、推論結果を出力    \n",
    "y = net(xx)\n",
    " \n",
    "from data import VOC_CLASSES as labels\n",
    " \n",
    "plt.figure(figsize=(10,10))\n",
    "colors = plt.cm.hsv(np.linspace(0, 1, 21)).tolist()\n",
    "plt.imshow(rgb_image) \n",
    "currentAxis = plt.gca()\n",
    "# 推論結果をdetectionsに格納\n",
    "detections = y.data\n",
    "# scale each detection back up to the image\n",
    "scale = torch.Tensor(rgb_image.shape[1::-1]).repeat(2)\n",
    " \n",
    "# バウンディングボックスとクラス名の表示\n",
    "for i in range(detections.size(1)):\n",
    "    j = 0\n",
    "    # 確信度confが0.6以上のボックスを表示\n",
    "    # jは確信度上位200件のボックスのインデックス\n",
    "    # detections[0,i,j]は[conf,xmin,ymin,xmax,ymax]の形状\n",
    "    while detections[0,i,j,0] >= 0.4:\n",
    "        score = detections[0,i,j,0]\n",
    "        label_name = labels[i-1]\n",
    "        display_txt = '%s: %.2f'%(label_name, score)\n",
    "        pt = (detections[0,i,j,1:]*scale).cpu().numpy()\n",
    "        coords = (pt[0], pt[1]), pt[2]-pt[0]+1, pt[3]-pt[1]+1\n",
    "        color = colors[i]\n",
    "        currentAxis.add_patch(plt.Rectangle(*coords, fill=False, edgecolor=color, linewidth=2))\n",
    "        currentAxis.text(pt[0], pt[1], display_txt, bbox={'facecolor':color, 'alpha':0.5})\n",
    "        j+=1\n",
    "        \n",
    "plt.show()\n",
    "plt.close()"
   ]
  }
 ],
 "metadata": {
  "accelerator": "GPU",
  "colab": {
   "collapsed_sections": [],
   "name": "section7_4.ipynb",
   "provenance": [
    {
     "file_id": "1jU6TylxokF1JvOurfvaDGG2vmffiECx_",
     "timestamp": 1540377950842
    }
   ]
  },
  "kernelspec": {
   "display_name": "Python 3",
   "language": "python",
   "name": "python3"
  },
  "language_info": {
   "codemirror_mode": {
    "name": "ipython",
    "version": 3
   },
   "file_extension": ".py",
   "mimetype": "text/x-python",
   "name": "python",
   "nbconvert_exporter": "python",
   "pygments_lexer": "ipython3",
   "version": "3.7.7"
  }
 },
 "nbformat": 4,
 "nbformat_minor": 1
}
